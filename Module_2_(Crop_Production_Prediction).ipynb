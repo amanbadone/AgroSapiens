{
  "nbformat": 4,
  "nbformat_minor": 0,
  "metadata": {
    "colab": {
      "provenance": [],
      "authorship_tag": "ABX9TyOtXV9TYNB6LaG8ezmdImMm",
      "include_colab_link": true
    },
    "kernelspec": {
      "name": "python3",
      "display_name": "Python 3"
    },
    "language_info": {
      "name": "python"
    }
  },
  "cells": [
    {
      "cell_type": "markdown",
      "metadata": {
        "id": "view-in-github",
        "colab_type": "text"
      },
      "source": [
        "<a href=\"https://colab.research.google.com/github/amanbadone/AgroSapiens/blob/main/Module_2_(Crop_Production_Prediction).ipynb\" target=\"_parent\"><img src=\"https://colab.research.google.com/assets/colab-badge.svg\" alt=\"Open In Colab\"/></a>"
      ]
    },
    {
      "cell_type": "code",
      "execution_count": null,
      "metadata": {
        "id": "1FQ3MTL4wmzg"
      },
      "outputs": [],
      "source": [
        "import numpy as np\n",
        "import pandas as pd\n",
        "import matplotlib.pyplot as plt"
      ]
    },
    {
      "cell_type": "code",
      "source": [
        "df = pd.read_csv(\"ICRISAT-District Level Data.csv\")\n",
        "df.head()"
      ],
      "metadata": {
        "colab": {
          "base_uri": "https://localhost:8080/",
          "height": 206
        },
        "id": "OerBHYAiwuG1",
        "outputId": "4bfeccea-e7f2-460a-f3bf-4756b5206c45"
      },
      "execution_count": null,
      "outputs": [
        {
          "output_type": "execute_result",
          "data": {
            "text/plain": [
              "   Dist Code  Year  State Code      State Name Dist Name  \\\n",
              "0         42  1966           6  Madhya Pradesh  Shajapur   \n",
              "1         42  1967           6  Madhya Pradesh  Shajapur   \n",
              "2         42  1968           6  Madhya Pradesh  Shajapur   \n",
              "3         42  1969           6  Madhya Pradesh  Shajapur   \n",
              "4         42  1970           6  Madhya Pradesh  Shajapur   \n",
              "\n",
              "   WHEAT AREA (1000 ha)  WHEAT PRODUCTION (1000 tons)  \n",
              "0                  31.0                          19.0  \n",
              "1                  45.0                          36.0  \n",
              "2                  57.5                          42.0  \n",
              "3                  59.6                          41.5  \n",
              "4                  69.1                          69.6  "
            ],
            "text/html": [
              "\n",
              "  <div id=\"df-1ab53a51-f67b-4e6e-b94d-392b1758fd46\">\n",
              "    <div class=\"colab-df-container\">\n",
              "      <div>\n",
              "<style scoped>\n",
              "    .dataframe tbody tr th:only-of-type {\n",
              "        vertical-align: middle;\n",
              "    }\n",
              "\n",
              "    .dataframe tbody tr th {\n",
              "        vertical-align: top;\n",
              "    }\n",
              "\n",
              "    .dataframe thead th {\n",
              "        text-align: right;\n",
              "    }\n",
              "</style>\n",
              "<table border=\"1\" class=\"dataframe\">\n",
              "  <thead>\n",
              "    <tr style=\"text-align: right;\">\n",
              "      <th></th>\n",
              "      <th>Dist Code</th>\n",
              "      <th>Year</th>\n",
              "      <th>State Code</th>\n",
              "      <th>State Name</th>\n",
              "      <th>Dist Name</th>\n",
              "      <th>WHEAT AREA (1000 ha)</th>\n",
              "      <th>WHEAT PRODUCTION (1000 tons)</th>\n",
              "    </tr>\n",
              "  </thead>\n",
              "  <tbody>\n",
              "    <tr>\n",
              "      <th>0</th>\n",
              "      <td>42</td>\n",
              "      <td>1966</td>\n",
              "      <td>6</td>\n",
              "      <td>Madhya Pradesh</td>\n",
              "      <td>Shajapur</td>\n",
              "      <td>31.0</td>\n",
              "      <td>19.0</td>\n",
              "    </tr>\n",
              "    <tr>\n",
              "      <th>1</th>\n",
              "      <td>42</td>\n",
              "      <td>1967</td>\n",
              "      <td>6</td>\n",
              "      <td>Madhya Pradesh</td>\n",
              "      <td>Shajapur</td>\n",
              "      <td>45.0</td>\n",
              "      <td>36.0</td>\n",
              "    </tr>\n",
              "    <tr>\n",
              "      <th>2</th>\n",
              "      <td>42</td>\n",
              "      <td>1968</td>\n",
              "      <td>6</td>\n",
              "      <td>Madhya Pradesh</td>\n",
              "      <td>Shajapur</td>\n",
              "      <td>57.5</td>\n",
              "      <td>42.0</td>\n",
              "    </tr>\n",
              "    <tr>\n",
              "      <th>3</th>\n",
              "      <td>42</td>\n",
              "      <td>1969</td>\n",
              "      <td>6</td>\n",
              "      <td>Madhya Pradesh</td>\n",
              "      <td>Shajapur</td>\n",
              "      <td>59.6</td>\n",
              "      <td>41.5</td>\n",
              "    </tr>\n",
              "    <tr>\n",
              "      <th>4</th>\n",
              "      <td>42</td>\n",
              "      <td>1970</td>\n",
              "      <td>6</td>\n",
              "      <td>Madhya Pradesh</td>\n",
              "      <td>Shajapur</td>\n",
              "      <td>69.1</td>\n",
              "      <td>69.6</td>\n",
              "    </tr>\n",
              "  </tbody>\n",
              "</table>\n",
              "</div>\n",
              "      <button class=\"colab-df-convert\" onclick=\"convertToInteractive('df-1ab53a51-f67b-4e6e-b94d-392b1758fd46')\"\n",
              "              title=\"Convert this dataframe to an interactive table.\"\n",
              "              style=\"display:none;\">\n",
              "        \n",
              "  <svg xmlns=\"http://www.w3.org/2000/svg\" height=\"24px\"viewBox=\"0 0 24 24\"\n",
              "       width=\"24px\">\n",
              "    <path d=\"M0 0h24v24H0V0z\" fill=\"none\"/>\n",
              "    <path d=\"M18.56 5.44l.94 2.06.94-2.06 2.06-.94-2.06-.94-.94-2.06-.94 2.06-2.06.94zm-11 1L8.5 8.5l.94-2.06 2.06-.94-2.06-.94L8.5 2.5l-.94 2.06-2.06.94zm10 10l.94 2.06.94-2.06 2.06-.94-2.06-.94-.94-2.06-.94 2.06-2.06.94z\"/><path d=\"M17.41 7.96l-1.37-1.37c-.4-.4-.92-.59-1.43-.59-.52 0-1.04.2-1.43.59L10.3 9.45l-7.72 7.72c-.78.78-.78 2.05 0 2.83L4 21.41c.39.39.9.59 1.41.59.51 0 1.02-.2 1.41-.59l7.78-7.78 2.81-2.81c.8-.78.8-2.07 0-2.86zM5.41 20L4 18.59l7.72-7.72 1.47 1.35L5.41 20z\"/>\n",
              "  </svg>\n",
              "      </button>\n",
              "      \n",
              "  <style>\n",
              "    .colab-df-container {\n",
              "      display:flex;\n",
              "      flex-wrap:wrap;\n",
              "      gap: 12px;\n",
              "    }\n",
              "\n",
              "    .colab-df-convert {\n",
              "      background-color: #E8F0FE;\n",
              "      border: none;\n",
              "      border-radius: 50%;\n",
              "      cursor: pointer;\n",
              "      display: none;\n",
              "      fill: #1967D2;\n",
              "      height: 32px;\n",
              "      padding: 0 0 0 0;\n",
              "      width: 32px;\n",
              "    }\n",
              "\n",
              "    .colab-df-convert:hover {\n",
              "      background-color: #E2EBFA;\n",
              "      box-shadow: 0px 1px 2px rgba(60, 64, 67, 0.3), 0px 1px 3px 1px rgba(60, 64, 67, 0.15);\n",
              "      fill: #174EA6;\n",
              "    }\n",
              "\n",
              "    [theme=dark] .colab-df-convert {\n",
              "      background-color: #3B4455;\n",
              "      fill: #D2E3FC;\n",
              "    }\n",
              "\n",
              "    [theme=dark] .colab-df-convert:hover {\n",
              "      background-color: #434B5C;\n",
              "      box-shadow: 0px 1px 3px 1px rgba(0, 0, 0, 0.15);\n",
              "      filter: drop-shadow(0px 1px 2px rgba(0, 0, 0, 0.3));\n",
              "      fill: #FFFFFF;\n",
              "    }\n",
              "  </style>\n",
              "\n",
              "      <script>\n",
              "        const buttonEl =\n",
              "          document.querySelector('#df-1ab53a51-f67b-4e6e-b94d-392b1758fd46 button.colab-df-convert');\n",
              "        buttonEl.style.display =\n",
              "          google.colab.kernel.accessAllowed ? 'block' : 'none';\n",
              "\n",
              "        async function convertToInteractive(key) {\n",
              "          const element = document.querySelector('#df-1ab53a51-f67b-4e6e-b94d-392b1758fd46');\n",
              "          const dataTable =\n",
              "            await google.colab.kernel.invokeFunction('convertToInteractive',\n",
              "                                                     [key], {});\n",
              "          if (!dataTable) return;\n",
              "\n",
              "          const docLinkHtml = 'Like what you see? Visit the ' +\n",
              "            '<a target=\"_blank\" href=https://colab.research.google.com/notebooks/data_table.ipynb>data table notebook</a>'\n",
              "            + ' to learn more about interactive tables.';\n",
              "          element.innerHTML = '';\n",
              "          dataTable['output_type'] = 'display_data';\n",
              "          await google.colab.output.renderOutput(dataTable, element);\n",
              "          const docLink = document.createElement('div');\n",
              "          docLink.innerHTML = docLinkHtml;\n",
              "          element.appendChild(docLink);\n",
              "        }\n",
              "      </script>\n",
              "    </div>\n",
              "  </div>\n",
              "  "
            ]
          },
          "metadata": {},
          "execution_count": 25
        }
      ]
    },
    {
      "cell_type": "code",
      "source": [
        "df=df.drop('Dist Code', axis = 1 )\n",
        "df=df.drop('State Code', axis = 1 )\n",
        "df=df.drop('Dist Name', axis = 1 )\n",
        "df=df.drop('State Name', axis = 1 )\n",
        "df"
      ],
      "metadata": {
        "colab": {
          "base_uri": "https://localhost:8080/",
          "height": 1000
        },
        "id": "LRy9DrhNw_Jz",
        "outputId": "60770d3e-defa-4991-df09-d0e17c1e9f20"
      },
      "execution_count": null,
      "outputs": [
        {
          "output_type": "execute_result",
          "data": {
            "text/plain": [
              "    Year  WHEAT AREA (1000 ha)  WHEAT PRODUCTION (1000 tons)\n",
              "0   1966                 31.00                         19.00\n",
              "1   1967                 45.00                         36.00\n",
              "2   1968                 57.50                         42.00\n",
              "3   1969                 59.60                         41.50\n",
              "4   1970                 69.10                         69.60\n",
              "5   1971                 77.90                        103.80\n",
              "6   1972                 56.00                         49.80\n",
              "7   1973                 87.60                         92.00\n",
              "8   1974                 49.60                         71.10\n",
              "9   1975                 70.10                         91.40\n",
              "10  1976                 54.80                         76.50\n",
              "11  1977                 60.20                         72.40\n",
              "12  1978                 73.00                         92.00\n",
              "13  1979                 48.70                         58.20\n",
              "14  1980                 47.60                         55.60\n",
              "15  1981                 48.10                         60.60\n",
              "16  1982                 48.70                         78.20\n",
              "17  1983                 53.40                         69.30\n",
              "18  1984                 50.40                         97.90\n",
              "19  1985                 55.80                         92.40\n",
              "20  1986                 49.00                         95.00\n",
              "21  1987                 51.00                         91.00\n",
              "22  1988                 56.80                        117.60\n",
              "23  1989                 34.00                         64.00\n",
              "24  1990                 68.10                        157.00\n",
              "25  1991                 61.90                        153.10\n",
              "26  1992                 43.40                         92.10\n",
              "27  1993                 79.30                        218.10\n",
              "28  1994                 78.50                        196.80\n",
              "29  1995                 65.80                        148.90\n",
              "30  1996                 81.30                        203.30\n",
              "31  1997                100.70                        199.40\n",
              "32  1998                100.70                        245.80\n",
              "33  1999                109.40                        285.40\n",
              "34  2000                 27.60                         50.30\n",
              "35  2001                 42.80                         69.10\n",
              "36  2002                 37.10                         56.10\n",
              "37  2003                 77.50                        148.30\n",
              "38  2004                 85.38                        180.24\n",
              "39  2005                 52.03                         93.03\n",
              "40  2006                 86.54                        196.80\n",
              "41  2007                 87.50                        164.90\n",
              "42  2008                 66.00                        134.80\n",
              "43  2009                 83.90                        221.40\n",
              "44  2010                 90.80                        182.10\n",
              "45  2011                 99.00                        297.70\n",
              "46  2012                126.24                        260.68\n",
              "47  2013                166.80                        376.83\n",
              "48  2014                118.00                        362.00\n",
              "49  2015                171.00                        552.00\n",
              "50  2016                186.00                        636.00\n",
              "51  2017                125.80                        471.60"
            ],
            "text/html": [
              "\n",
              "  <div id=\"df-a5262eaa-c43d-4f8c-9bda-80a4b10f3ccc\">\n",
              "    <div class=\"colab-df-container\">\n",
              "      <div>\n",
              "<style scoped>\n",
              "    .dataframe tbody tr th:only-of-type {\n",
              "        vertical-align: middle;\n",
              "    }\n",
              "\n",
              "    .dataframe tbody tr th {\n",
              "        vertical-align: top;\n",
              "    }\n",
              "\n",
              "    .dataframe thead th {\n",
              "        text-align: right;\n",
              "    }\n",
              "</style>\n",
              "<table border=\"1\" class=\"dataframe\">\n",
              "  <thead>\n",
              "    <tr style=\"text-align: right;\">\n",
              "      <th></th>\n",
              "      <th>Year</th>\n",
              "      <th>WHEAT AREA (1000 ha)</th>\n",
              "      <th>WHEAT PRODUCTION (1000 tons)</th>\n",
              "    </tr>\n",
              "  </thead>\n",
              "  <tbody>\n",
              "    <tr>\n",
              "      <th>0</th>\n",
              "      <td>1966</td>\n",
              "      <td>31.00</td>\n",
              "      <td>19.00</td>\n",
              "    </tr>\n",
              "    <tr>\n",
              "      <th>1</th>\n",
              "      <td>1967</td>\n",
              "      <td>45.00</td>\n",
              "      <td>36.00</td>\n",
              "    </tr>\n",
              "    <tr>\n",
              "      <th>2</th>\n",
              "      <td>1968</td>\n",
              "      <td>57.50</td>\n",
              "      <td>42.00</td>\n",
              "    </tr>\n",
              "    <tr>\n",
              "      <th>3</th>\n",
              "      <td>1969</td>\n",
              "      <td>59.60</td>\n",
              "      <td>41.50</td>\n",
              "    </tr>\n",
              "    <tr>\n",
              "      <th>4</th>\n",
              "      <td>1970</td>\n",
              "      <td>69.10</td>\n",
              "      <td>69.60</td>\n",
              "    </tr>\n",
              "    <tr>\n",
              "      <th>5</th>\n",
              "      <td>1971</td>\n",
              "      <td>77.90</td>\n",
              "      <td>103.80</td>\n",
              "    </tr>\n",
              "    <tr>\n",
              "      <th>6</th>\n",
              "      <td>1972</td>\n",
              "      <td>56.00</td>\n",
              "      <td>49.80</td>\n",
              "    </tr>\n",
              "    <tr>\n",
              "      <th>7</th>\n",
              "      <td>1973</td>\n",
              "      <td>87.60</td>\n",
              "      <td>92.00</td>\n",
              "    </tr>\n",
              "    <tr>\n",
              "      <th>8</th>\n",
              "      <td>1974</td>\n",
              "      <td>49.60</td>\n",
              "      <td>71.10</td>\n",
              "    </tr>\n",
              "    <tr>\n",
              "      <th>9</th>\n",
              "      <td>1975</td>\n",
              "      <td>70.10</td>\n",
              "      <td>91.40</td>\n",
              "    </tr>\n",
              "    <tr>\n",
              "      <th>10</th>\n",
              "      <td>1976</td>\n",
              "      <td>54.80</td>\n",
              "      <td>76.50</td>\n",
              "    </tr>\n",
              "    <tr>\n",
              "      <th>11</th>\n",
              "      <td>1977</td>\n",
              "      <td>60.20</td>\n",
              "      <td>72.40</td>\n",
              "    </tr>\n",
              "    <tr>\n",
              "      <th>12</th>\n",
              "      <td>1978</td>\n",
              "      <td>73.00</td>\n",
              "      <td>92.00</td>\n",
              "    </tr>\n",
              "    <tr>\n",
              "      <th>13</th>\n",
              "      <td>1979</td>\n",
              "      <td>48.70</td>\n",
              "      <td>58.20</td>\n",
              "    </tr>\n",
              "    <tr>\n",
              "      <th>14</th>\n",
              "      <td>1980</td>\n",
              "      <td>47.60</td>\n",
              "      <td>55.60</td>\n",
              "    </tr>\n",
              "    <tr>\n",
              "      <th>15</th>\n",
              "      <td>1981</td>\n",
              "      <td>48.10</td>\n",
              "      <td>60.60</td>\n",
              "    </tr>\n",
              "    <tr>\n",
              "      <th>16</th>\n",
              "      <td>1982</td>\n",
              "      <td>48.70</td>\n",
              "      <td>78.20</td>\n",
              "    </tr>\n",
              "    <tr>\n",
              "      <th>17</th>\n",
              "      <td>1983</td>\n",
              "      <td>53.40</td>\n",
              "      <td>69.30</td>\n",
              "    </tr>\n",
              "    <tr>\n",
              "      <th>18</th>\n",
              "      <td>1984</td>\n",
              "      <td>50.40</td>\n",
              "      <td>97.90</td>\n",
              "    </tr>\n",
              "    <tr>\n",
              "      <th>19</th>\n",
              "      <td>1985</td>\n",
              "      <td>55.80</td>\n",
              "      <td>92.40</td>\n",
              "    </tr>\n",
              "    <tr>\n",
              "      <th>20</th>\n",
              "      <td>1986</td>\n",
              "      <td>49.00</td>\n",
              "      <td>95.00</td>\n",
              "    </tr>\n",
              "    <tr>\n",
              "      <th>21</th>\n",
              "      <td>1987</td>\n",
              "      <td>51.00</td>\n",
              "      <td>91.00</td>\n",
              "    </tr>\n",
              "    <tr>\n",
              "      <th>22</th>\n",
              "      <td>1988</td>\n",
              "      <td>56.80</td>\n",
              "      <td>117.60</td>\n",
              "    </tr>\n",
              "    <tr>\n",
              "      <th>23</th>\n",
              "      <td>1989</td>\n",
              "      <td>34.00</td>\n",
              "      <td>64.00</td>\n",
              "    </tr>\n",
              "    <tr>\n",
              "      <th>24</th>\n",
              "      <td>1990</td>\n",
              "      <td>68.10</td>\n",
              "      <td>157.00</td>\n",
              "    </tr>\n",
              "    <tr>\n",
              "      <th>25</th>\n",
              "      <td>1991</td>\n",
              "      <td>61.90</td>\n",
              "      <td>153.10</td>\n",
              "    </tr>\n",
              "    <tr>\n",
              "      <th>26</th>\n",
              "      <td>1992</td>\n",
              "      <td>43.40</td>\n",
              "      <td>92.10</td>\n",
              "    </tr>\n",
              "    <tr>\n",
              "      <th>27</th>\n",
              "      <td>1993</td>\n",
              "      <td>79.30</td>\n",
              "      <td>218.10</td>\n",
              "    </tr>\n",
              "    <tr>\n",
              "      <th>28</th>\n",
              "      <td>1994</td>\n",
              "      <td>78.50</td>\n",
              "      <td>196.80</td>\n",
              "    </tr>\n",
              "    <tr>\n",
              "      <th>29</th>\n",
              "      <td>1995</td>\n",
              "      <td>65.80</td>\n",
              "      <td>148.90</td>\n",
              "    </tr>\n",
              "    <tr>\n",
              "      <th>30</th>\n",
              "      <td>1996</td>\n",
              "      <td>81.30</td>\n",
              "      <td>203.30</td>\n",
              "    </tr>\n",
              "    <tr>\n",
              "      <th>31</th>\n",
              "      <td>1997</td>\n",
              "      <td>100.70</td>\n",
              "      <td>199.40</td>\n",
              "    </tr>\n",
              "    <tr>\n",
              "      <th>32</th>\n",
              "      <td>1998</td>\n",
              "      <td>100.70</td>\n",
              "      <td>245.80</td>\n",
              "    </tr>\n",
              "    <tr>\n",
              "      <th>33</th>\n",
              "      <td>1999</td>\n",
              "      <td>109.40</td>\n",
              "      <td>285.40</td>\n",
              "    </tr>\n",
              "    <tr>\n",
              "      <th>34</th>\n",
              "      <td>2000</td>\n",
              "      <td>27.60</td>\n",
              "      <td>50.30</td>\n",
              "    </tr>\n",
              "    <tr>\n",
              "      <th>35</th>\n",
              "      <td>2001</td>\n",
              "      <td>42.80</td>\n",
              "      <td>69.10</td>\n",
              "    </tr>\n",
              "    <tr>\n",
              "      <th>36</th>\n",
              "      <td>2002</td>\n",
              "      <td>37.10</td>\n",
              "      <td>56.10</td>\n",
              "    </tr>\n",
              "    <tr>\n",
              "      <th>37</th>\n",
              "      <td>2003</td>\n",
              "      <td>77.50</td>\n",
              "      <td>148.30</td>\n",
              "    </tr>\n",
              "    <tr>\n",
              "      <th>38</th>\n",
              "      <td>2004</td>\n",
              "      <td>85.38</td>\n",
              "      <td>180.24</td>\n",
              "    </tr>\n",
              "    <tr>\n",
              "      <th>39</th>\n",
              "      <td>2005</td>\n",
              "      <td>52.03</td>\n",
              "      <td>93.03</td>\n",
              "    </tr>\n",
              "    <tr>\n",
              "      <th>40</th>\n",
              "      <td>2006</td>\n",
              "      <td>86.54</td>\n",
              "      <td>196.80</td>\n",
              "    </tr>\n",
              "    <tr>\n",
              "      <th>41</th>\n",
              "      <td>2007</td>\n",
              "      <td>87.50</td>\n",
              "      <td>164.90</td>\n",
              "    </tr>\n",
              "    <tr>\n",
              "      <th>42</th>\n",
              "      <td>2008</td>\n",
              "      <td>66.00</td>\n",
              "      <td>134.80</td>\n",
              "    </tr>\n",
              "    <tr>\n",
              "      <th>43</th>\n",
              "      <td>2009</td>\n",
              "      <td>83.90</td>\n",
              "      <td>221.40</td>\n",
              "    </tr>\n",
              "    <tr>\n",
              "      <th>44</th>\n",
              "      <td>2010</td>\n",
              "      <td>90.80</td>\n",
              "      <td>182.10</td>\n",
              "    </tr>\n",
              "    <tr>\n",
              "      <th>45</th>\n",
              "      <td>2011</td>\n",
              "      <td>99.00</td>\n",
              "      <td>297.70</td>\n",
              "    </tr>\n",
              "    <tr>\n",
              "      <th>46</th>\n",
              "      <td>2012</td>\n",
              "      <td>126.24</td>\n",
              "      <td>260.68</td>\n",
              "    </tr>\n",
              "    <tr>\n",
              "      <th>47</th>\n",
              "      <td>2013</td>\n",
              "      <td>166.80</td>\n",
              "      <td>376.83</td>\n",
              "    </tr>\n",
              "    <tr>\n",
              "      <th>48</th>\n",
              "      <td>2014</td>\n",
              "      <td>118.00</td>\n",
              "      <td>362.00</td>\n",
              "    </tr>\n",
              "    <tr>\n",
              "      <th>49</th>\n",
              "      <td>2015</td>\n",
              "      <td>171.00</td>\n",
              "      <td>552.00</td>\n",
              "    </tr>\n",
              "    <tr>\n",
              "      <th>50</th>\n",
              "      <td>2016</td>\n",
              "      <td>186.00</td>\n",
              "      <td>636.00</td>\n",
              "    </tr>\n",
              "    <tr>\n",
              "      <th>51</th>\n",
              "      <td>2017</td>\n",
              "      <td>125.80</td>\n",
              "      <td>471.60</td>\n",
              "    </tr>\n",
              "  </tbody>\n",
              "</table>\n",
              "</div>\n",
              "      <button class=\"colab-df-convert\" onclick=\"convertToInteractive('df-a5262eaa-c43d-4f8c-9bda-80a4b10f3ccc')\"\n",
              "              title=\"Convert this dataframe to an interactive table.\"\n",
              "              style=\"display:none;\">\n",
              "        \n",
              "  <svg xmlns=\"http://www.w3.org/2000/svg\" height=\"24px\"viewBox=\"0 0 24 24\"\n",
              "       width=\"24px\">\n",
              "    <path d=\"M0 0h24v24H0V0z\" fill=\"none\"/>\n",
              "    <path d=\"M18.56 5.44l.94 2.06.94-2.06 2.06-.94-2.06-.94-.94-2.06-.94 2.06-2.06.94zm-11 1L8.5 8.5l.94-2.06 2.06-.94-2.06-.94L8.5 2.5l-.94 2.06-2.06.94zm10 10l.94 2.06.94-2.06 2.06-.94-2.06-.94-.94-2.06-.94 2.06-2.06.94z\"/><path d=\"M17.41 7.96l-1.37-1.37c-.4-.4-.92-.59-1.43-.59-.52 0-1.04.2-1.43.59L10.3 9.45l-7.72 7.72c-.78.78-.78 2.05 0 2.83L4 21.41c.39.39.9.59 1.41.59.51 0 1.02-.2 1.41-.59l7.78-7.78 2.81-2.81c.8-.78.8-2.07 0-2.86zM5.41 20L4 18.59l7.72-7.72 1.47 1.35L5.41 20z\"/>\n",
              "  </svg>\n",
              "      </button>\n",
              "      \n",
              "  <style>\n",
              "    .colab-df-container {\n",
              "      display:flex;\n",
              "      flex-wrap:wrap;\n",
              "      gap: 12px;\n",
              "    }\n",
              "\n",
              "    .colab-df-convert {\n",
              "      background-color: #E8F0FE;\n",
              "      border: none;\n",
              "      border-radius: 50%;\n",
              "      cursor: pointer;\n",
              "      display: none;\n",
              "      fill: #1967D2;\n",
              "      height: 32px;\n",
              "      padding: 0 0 0 0;\n",
              "      width: 32px;\n",
              "    }\n",
              "\n",
              "    .colab-df-convert:hover {\n",
              "      background-color: #E2EBFA;\n",
              "      box-shadow: 0px 1px 2px rgba(60, 64, 67, 0.3), 0px 1px 3px 1px rgba(60, 64, 67, 0.15);\n",
              "      fill: #174EA6;\n",
              "    }\n",
              "\n",
              "    [theme=dark] .colab-df-convert {\n",
              "      background-color: #3B4455;\n",
              "      fill: #D2E3FC;\n",
              "    }\n",
              "\n",
              "    [theme=dark] .colab-df-convert:hover {\n",
              "      background-color: #434B5C;\n",
              "      box-shadow: 0px 1px 3px 1px rgba(0, 0, 0, 0.15);\n",
              "      filter: drop-shadow(0px 1px 2px rgba(0, 0, 0, 0.3));\n",
              "      fill: #FFFFFF;\n",
              "    }\n",
              "  </style>\n",
              "\n",
              "      <script>\n",
              "        const buttonEl =\n",
              "          document.querySelector('#df-a5262eaa-c43d-4f8c-9bda-80a4b10f3ccc button.colab-df-convert');\n",
              "        buttonEl.style.display =\n",
              "          google.colab.kernel.accessAllowed ? 'block' : 'none';\n",
              "\n",
              "        async function convertToInteractive(key) {\n",
              "          const element = document.querySelector('#df-a5262eaa-c43d-4f8c-9bda-80a4b10f3ccc');\n",
              "          const dataTable =\n",
              "            await google.colab.kernel.invokeFunction('convertToInteractive',\n",
              "                                                     [key], {});\n",
              "          if (!dataTable) return;\n",
              "\n",
              "          const docLinkHtml = 'Like what you see? Visit the ' +\n",
              "            '<a target=\"_blank\" href=https://colab.research.google.com/notebooks/data_table.ipynb>data table notebook</a>'\n",
              "            + ' to learn more about interactive tables.';\n",
              "          element.innerHTML = '';\n",
              "          dataTable['output_type'] = 'display_data';\n",
              "          await google.colab.output.renderOutput(dataTable, element);\n",
              "          const docLink = document.createElement('div');\n",
              "          docLink.innerHTML = docLinkHtml;\n",
              "          element.appendChild(docLink);\n",
              "        }\n",
              "      </script>\n",
              "    </div>\n",
              "  </div>\n",
              "  "
            ]
          },
          "metadata": {},
          "execution_count": 26
        }
      ]
    },
    {
      "cell_type": "code",
      "source": [
        "train , valid , test =np.split(df.sample(frac=1), [int(0.6*len(df)), int(0.8*len(df))])"
      ],
      "metadata": {
        "id": "nFJTeqgCxUYt"
      },
      "execution_count": null,
      "outputs": []
    },
    {
      "cell_type": "code",
      "source": [
        "from sklearn.preprocessing import StandardScaler\n",
        "def scale_dataset(dataframe):\n",
        "  y = dataframe[dataframe.columns[2]].values\n",
        "  X = dataframe.drop(dataframe.columns[2], axis=1).values\n",
        "\n",
        "  # SCALER = StandardScaler()\n",
        "  # X = SCALER.fit_transform(X)\n",
        "\n",
        "  data= np.hstack((X,np.reshape(y,(-1,1))))\n",
        "  return data,X,y"
      ],
      "metadata": {
        "id": "6FkMMt7txmKO"
      },
      "execution_count": null,
      "outputs": []
    },
    {
      "cell_type": "code",
      "source": [
        "train ,X_train, Y_train = scale_dataset(train)\n",
        "valid ,X_valid, Y_valid = scale_dataset(valid)\n",
        "test ,X_test, Y_test = scale_dataset(test)"
      ],
      "metadata": {
        "id": "vWuVrTWaxx10"
      },
      "execution_count": null,
      "outputs": []
    },
    {
      "cell_type": "code",
      "source": [
        "from sklearn.linear_model import LinearRegression\n",
        "from sklearn.metrics import r2_score\n",
        "\n",
        "# assuming X_train, y_train are obtained using scale_dataset function\n",
        "linreg_model = LinearRegression()\n",
        "\n",
        "# fit the model to the training data\n",
        "linreg_model.fit(X_train, Y_train)\n",
        "\n",
        "# make predictions on the test data\n",
        "y_pred = linreg_model.predict(X_test)\n",
        "\n",
        "# evaluate the performance of the model\n",
        "score = linreg_model.score(X_test, Y_test)\n",
        "print (\"X Test :\" , X_test)"
      ],
      "metadata": {
        "colab": {
          "base_uri": "https://localhost:8080/"
        },
        "id": "azF7QB73x05z",
        "outputId": "e4d4cd3a-04c7-463d-98d9-6de3b448bed6"
      },
      "execution_count": null,
      "outputs": [
        {
          "output_type": "stream",
          "name": "stdout",
          "text": [
            "X Test : [[1967.    45. ]\n",
            " [1980.    47.6]\n",
            " [1971.    77.9]\n",
            " [2010.    90.8]\n",
            " [1979.    48.7]\n",
            " [1972.    56. ]\n",
            " [1969.    59.6]\n",
            " [2003.    77.5]\n",
            " [2014.   118. ]\n",
            " [2013.   166.8]\n",
            " [2015.   171. ]]\n"
          ]
        }
      ]
    },
    {
      "cell_type": "code",
      "source": [
        "print (\"Predictions :\" , y_pred)"
      ],
      "metadata": {
        "colab": {
          "base_uri": "https://localhost:8080/"
        },
        "id": "BPLwyqrBwcY2",
        "outputId": "ce99d73a-a900-4606-8840-d52c77d8a249"
      },
      "execution_count": null,
      "outputs": [
        {
          "output_type": "stream",
          "name": "stdout",
          "text": [
            "Predictions : [ 29.82706699  58.96606297 145.42595067 249.78463635  61.04307371\n",
            "  74.25338832  81.48099102 194.56377967 346.44868137 506.98039458\n",
            " 524.08654281]\n"
          ]
        }
      ]
    },
    {
      "cell_type": "code",
      "source": [
        "\n",
        "print(\"Real Results : \", Y_test)"
      ],
      "metadata": {
        "colab": {
          "base_uri": "https://localhost:8080/"
        },
        "id": "g4n1JmaxwlMy",
        "outputId": "087ba274-7deb-4934-90b3-65fdd838abb3"
      },
      "execution_count": null,
      "outputs": [
        {
          "output_type": "stream",
          "name": "stdout",
          "text": [
            "Real Results :  [ 36.    55.6  103.8  182.1   58.2   49.8   41.5  148.3  362.   376.83\n",
            " 552.  ]\n"
          ]
        }
      ]
    },
    {
      "cell_type": "code",
      "source": [
        "print(\"Score:\", score)"
      ],
      "metadata": {
        "colab": {
          "base_uri": "https://localhost:8080/"
        },
        "id": "fslJvcRZwoW1",
        "outputId": "e94efc05-6cb6-4eb1-a416-0197fe2373fc"
      },
      "execution_count": null,
      "outputs": [
        {
          "output_type": "stream",
          "name": "stdout",
          "text": [
            "Score: 0.9057672169006649\n"
          ]
        }
      ]
    },
    {
      "cell_type": "code",
      "source": [
        "plt.figure(figsize=(12, 6))\n",
        "plt.plot(df['Year'], df['WHEAT AREA (1000 ha)'])\n",
        "plt.xlabel('Year')\n",
        "plt.ylabel('Harvest Area')\n",
        "plt.show()"
      ],
      "metadata": {
        "colab": {
          "base_uri": "https://localhost:8080/",
          "height": 542
        },
        "id": "GhFLbs_vyZIy",
        "outputId": "0083137d-977c-4283-ebae-10a5c90fd251"
      },
      "execution_count": null,
      "outputs": [
        {
          "output_type": "display_data",
          "data": {
            "text/plain": [
              "<Figure size 1200x600 with 1 Axes>"
            ],
            "image/png": "[encoded data removed]"
          },
          "metadata": {}
        }
      ]
    },
    {
      "cell_type": "code",
      "source": [
        "plt.figure(figsize=(12, 6))\n",
        "plt.plot(df['Year'], df['WHEAT PRODUCTION (1000 tons)'])\n",
        "plt.xlabel('Year')\n",
        "plt.ylabel('Harvest Production')\n",
        "plt.show()"
      ],
      "metadata": {
        "colab": {
          "base_uri": "https://localhost:8080/",
          "height": 542
        },
        "id": "OteXnLiVy5R0",
        "outputId": "24e8c14f-becb-4823-e5f9-a78e83f0fb6c"
      },
      "execution_count": null,
      "outputs": [
        {
          "output_type": "display_data",
          "data": {
            "text/plain": [
              "<Figure size 1200x600 with 1 Axes>"
            ],
            "image/png": "[encoded data removed]"
          },
          "metadata": {}
        }
      ]
    },
    {
      "cell_type": "code",
      "source": [
        "from sklearn.ensemble import RandomForestRegressor\n",
        "from sklearn.model_selection import train_test_split\n",
        "from sklearn.metrics import mean_squared_error\n",
        "rf_model = RandomForestRegressor(n_estimators=100, random_state=42)\n",
        "rf_model.fit(X_train,Y_train)\n",
        "\n",
        "# Step 4: Make predictions on the testing set and evaluate model performance using mean squared error\n",
        "y_pred = rf_model.predict(X_test)\n",
        "mse = mean_squared_error(Y_test, y_pred)\n",
        "print('Mean Squared Error:', mse)\n",
        "print('Accuracy',rf_model.score(X_test,Y_test))"
      ],
      "metadata": {
        "colab": {
          "base_uri": "https://localhost:8080/"
        },
        "id": "0uWmTiAeXwUF",
        "outputId": "ca6ca021-3b7c-4ebf-ebed-4257f73a9e4d"
      },
      "execution_count": null,
      "outputs": [
        {
          "output_type": "stream",
          "name": "stdout",
          "text": [
            "Mean Squared Error: 1757.082646855448\n",
            "Accuracy 0.9364692483662255\n"
          ]
        }
      ]
    },
    {
      "cell_type": "markdown",
      "source": [
        "#Lets go one step further towards neural network and implement this same stuff using neural network"
      ],
      "metadata": {
        "id": "a3Ic_WXI6Qzw"
      }
    },
    {
      "cell_type": "code",
      "source": [
        "import tensorflow as tf\n",
        "from tensorflow import keras\n",
        "from tensorflow.keras import layers\n",
        "normalizer = tf.keras.layers.Normalization(input_shape = (2,),axis =1)\n",
        "normalizer.adapt(X_train)"
      ],
      "metadata": {
        "id": "KKN3-3Sqx54m"
      },
      "execution_count": null,
      "outputs": []
    },
    {
      "cell_type": "code",
      "source": [
        "model=tf.keras.Sequential(\n",
        "    [\n",
        "        normalizer,\n",
        "     tf.keras.layers.Dense(1)\n",
        "    ]\n",
        ")\n",
        "model.predict(X_train[:10])"
      ],
      "metadata": {
        "id": "dyTeVLjqE3Hp",
        "colab": {
          "base_uri": "https://localhost:8080/"
        },
        "outputId": "63eaf8ea-8459-4f64-f93e-8b556ef11320"
      },
      "execution_count": null,
      "outputs": [
        {
          "output_type": "stream",
          "name": "stdout",
          "text": [
            "1/1 [==============================] - 0s 46ms/step\n"
          ]
        },
        {
          "output_type": "execute_result",
          "data": {
            "text/plain": [
              "array([[ 0.8227833 ],\n",
              "       [ 3.3770876 ],\n",
              "       [-1.0413134 ],\n",
              "       [-2.3202686 ],\n",
              "       [ 1.5875959 ],\n",
              "       [-1.3036261 ],\n",
              "       [ 0.19981153],\n",
              "       [-0.22185794],\n",
              "       [ 0.7617207 ],\n",
              "       [ 1.147161  ]], dtype=float32)"
            ]
          },
          "metadata": {},
          "execution_count": 38
        }
      ]
    },
    {
      "cell_type": "code",
      "source": [
        "model.compile(optimizer=tf.keras.optimizers.Adam(learning_rate=.01),loss =\"mean_squared_error\")"
      ],
      "metadata": {
        "id": "N9D7Huh4G_A5"
      },
      "execution_count": null,
      "outputs": []
    },
    {
      "cell_type": "code",
      "source": [
        "model.summary()"
      ],
      "metadata": {
        "colab": {
          "base_uri": "https://localhost:8080/"
        },
        "id": "4eRbAEmeSe_w",
        "outputId": "d89f71a1-ddeb-4847-aaa8-2b8a0ba4b3ee"
      },
      "execution_count": null,
      "outputs": [
        {
          "output_type": "stream",
          "name": "stdout",
          "text": [
            "Model: \"sequential_1\"\n",
            "_________________________________________________________________\n",
            " Layer (type)                Output Shape              Param #   \n",
            "=================================================================\n",
            " normalization_1 (Normalizat  (None, 2)                5         \n",
            " ion)                                                            \n",
            "                                                                 \n",
            " dense_1 (Dense)             (None, 1)                 3         \n",
            "                                                                 \n",
            "=================================================================\n",
            "Total params: 8\n",
            "Trainable params: 3\n",
            "Non-trainable params: 5\n",
            "_________________________________________________________________\n"
          ]
        }
      ]
    },
    {
      "cell_type": "code",
      "source": [
        "history = model.fit(\n",
        "    X_train, Y_train,\n",
        "    verbose=0,\n",
        "    epochs=1000,\n",
        "    validation_data=(X_valid, Y_valid)\n",
        ")"
      ],
      "metadata": {
        "id": "oRUUHdo6wRMC"
      },
      "execution_count": null,
      "outputs": []
    },
    {
      "cell_type": "code",
      "source": [
        "hist = pd.DataFrame(history.history)\n",
        "hist['epoch'] = history.epoch\n",
        "hist.tail()"
      ],
      "metadata": {
        "colab": {
          "base_uri": "https://localhost:8080/",
          "height": 206
        },
        "id": "b7a1c6Tp24pC",
        "outputId": "9f8fa84b-6324-44a4-8536-2948aa08e5e2"
      },
      "execution_count": null,
      "outputs": [
        {
          "output_type": "execute_result",
          "data": {
            "text/plain": [
              "             loss      val_loss  epoch\n",
              "995  33541.550781  18791.730469    995\n",
              "996  33535.445312  18788.886719    996\n",
              "997  33529.339844  18786.046875    997\n",
              "998  33523.238281  18783.203125    998\n",
              "999  33517.136719  18780.359375    999"
            ],
            "text/html": [
              "\n",
              "  <div id=\"df-6d29a1f5-22bf-415f-832b-ad96474c2182\">\n",
              "    <div class=\"colab-df-container\">\n",
              "      <div>\n",
              "<style scoped>\n",
              "    .dataframe tbody tr th:only-of-type {\n",
              "        vertical-align: middle;\n",
              "    }\n",
              "\n",
              "    .dataframe tbody tr th {\n",
              "        vertical-align: top;\n",
              "    }\n",
              "\n",
              "    .dataframe thead th {\n",
              "        text-align: right;\n",
              "    }\n",
              "</style>\n",
              "<table border=\"1\" class=\"dataframe\">\n",
              "  <thead>\n",
              "    <tr style=\"text-align: right;\">\n",
              "      <th></th>\n",
              "      <th>loss</th>\n",
              "      <th>val_loss</th>\n",
              "      <th>epoch</th>\n",
              "    </tr>\n",
              "  </thead>\n",
              "  <tbody>\n",
              "    <tr>\n",
              "      <th>995</th>\n",
              "      <td>33541.550781</td>\n",
              "      <td>18791.730469</td>\n",
              "      <td>995</td>\n",
              "    </tr>\n",
              "    <tr>\n",
              "      <th>996</th>\n",
              "      <td>33535.445312</td>\n",
              "      <td>18788.886719</td>\n",
              "      <td>996</td>\n",
              "    </tr>\n",
              "    <tr>\n",
              "      <th>997</th>\n",
              "      <td>33529.339844</td>\n",
              "      <td>18786.046875</td>\n",
              "      <td>997</td>\n",
              "    </tr>\n",
              "    <tr>\n",
              "      <th>998</th>\n",
              "      <td>33523.238281</td>\n",
              "      <td>18783.203125</td>\n",
              "      <td>998</td>\n",
              "    </tr>\n",
              "    <tr>\n",
              "      <th>999</th>\n",
              "      <td>33517.136719</td>\n",
              "      <td>18780.359375</td>\n",
              "      <td>999</td>\n",
              "    </tr>\n",
              "  </tbody>\n",
              "</table>\n",
              "</div>\n",
              "      <button class=\"colab-df-convert\" onclick=\"convertToInteractive('df-6d29a1f5-22bf-415f-832b-ad96474c2182')\"\n",
              "              title=\"Convert this dataframe to an interactive table.\"\n",
              "              style=\"display:none;\">\n",
              "        \n",
              "  <svg xmlns=\"http://www.w3.org/2000/svg\" height=\"24px\"viewBox=\"0 0 24 24\"\n",
              "       width=\"24px\">\n",
              "    <path d=\"M0 0h24v24H0V0z\" fill=\"none\"/>\n",
              "    <path d=\"M18.56 5.44l.94 2.06.94-2.06 2.06-.94-2.06-.94-.94-2.06-.94 2.06-2.06.94zm-11 1L8.5 8.5l.94-2.06 2.06-.94-2.06-.94L8.5 2.5l-.94 2.06-2.06.94zm10 10l.94 2.06.94-2.06 2.06-.94-2.06-.94-.94-2.06-.94 2.06-2.06.94z\"/><path d=\"M17.41 7.96l-1.37-1.37c-.4-.4-.92-.59-1.43-.59-.52 0-1.04.2-1.43.59L10.3 9.45l-7.72 7.72c-.78.78-.78 2.05 0 2.83L4 21.41c.39.39.9.59 1.41.59.51 0 1.02-.2 1.41-.59l7.78-7.78 2.81-2.81c.8-.78.8-2.07 0-2.86zM5.41 20L4 18.59l7.72-7.72 1.47 1.35L5.41 20z\"/>\n",
              "  </svg>\n",
              "      </button>\n",
              "      \n",
              "  <style>\n",
              "    .colab-df-container {\n",
              "      display:flex;\n",
              "      flex-wrap:wrap;\n",
              "      gap: 12px;\n",
              "    }\n",
              "\n",
              "    .colab-df-convert {\n",
              "      background-color: #E8F0FE;\n",
              "      border: none;\n",
              "      border-radius: 50%;\n",
              "      cursor: pointer;\n",
              "      display: none;\n",
              "      fill: #1967D2;\n",
              "      height: 32px;\n",
              "      padding: 0 0 0 0;\n",
              "      width: 32px;\n",
              "    }\n",
              "\n",
              "    .colab-df-convert:hover {\n",
              "      background-color: #E2EBFA;\n",
              "      box-shadow: 0px 1px 2px rgba(60, 64, 67, 0.3), 0px 1px 3px 1px rgba(60, 64, 67, 0.15);\n",
              "      fill: #174EA6;\n",
              "    }\n",
              "\n",
              "    [theme=dark] .colab-df-convert {\n",
              "      background-color: #3B4455;\n",
              "      fill: #D2E3FC;\n",
              "    }\n",
              "\n",
              "    [theme=dark] .colab-df-convert:hover {\n",
              "      background-color: #434B5C;\n",
              "      box-shadow: 0px 1px 3px 1px rgba(0, 0, 0, 0.15);\n",
              "      filter: drop-shadow(0px 1px 2px rgba(0, 0, 0, 0.3));\n",
              "      fill: #FFFFFF;\n",
              "    }\n",
              "  </style>\n",
              "\n",
              "      <script>\n",
              "        const buttonEl =\n",
              "          document.querySelector('#df-6d29a1f5-22bf-415f-832b-ad96474c2182 button.colab-df-convert');\n",
              "        buttonEl.style.display =\n",
              "          google.colab.kernel.accessAllowed ? 'block' : 'none';\n",
              "\n",
              "        async function convertToInteractive(key) {\n",
              "          const element = document.querySelector('#df-6d29a1f5-22bf-415f-832b-ad96474c2182');\n",
              "          const dataTable =\n",
              "            await google.colab.kernel.invokeFunction('convertToInteractive',\n",
              "                                                     [key], {});\n",
              "          if (!dataTable) return;\n",
              "\n",
              "          const docLinkHtml = 'Like what you see? Visit the ' +\n",
              "            '<a target=\"_blank\" href=https://colab.research.google.com/notebooks/data_table.ipynb>data table notebook</a>'\n",
              "            + ' to learn more about interactive tables.';\n",
              "          element.innerHTML = '';\n",
              "          dataTable['output_type'] = 'display_data';\n",
              "          await google.colab.output.renderOutput(dataTable, element);\n",
              "          const docLink = document.createElement('div');\n",
              "          docLink.innerHTML = docLinkHtml;\n",
              "          element.appendChild(docLink);\n",
              "        }\n",
              "      </script>\n",
              "    </div>\n",
              "  </div>\n",
              "  "
            ]
          },
          "metadata": {},
          "execution_count": 42
        }
      ]
    },
    {
      "cell_type": "code",
      "source": [
        "def plot_loss(history):\n",
        "  plt.plot(history.history['loss'], label='loss')\n",
        "  plt.plot(history.history['val_loss'], label='val_loss')\n",
        "  plt.xlabel('Epoch')\n",
        "  plt.ylabel('Error [MPG]')\n",
        "  plt.legend()\n",
        "  plt.grid(True)"
      ],
      "metadata": {
        "id": "pVrT6ij7xwLZ"
      },
      "execution_count": null,
      "outputs": []
    },
    {
      "cell_type": "code",
      "source": [
        "plot_loss(history)\n",
        "plt.show()"
      ],
      "metadata": {
        "colab": {
          "base_uri": "https://localhost:8080/",
          "height": 449
        },
        "id": "6boGg6Iey3eL",
        "outputId": "1565cc62-8425-4728-f7a5-972ae5366237"
      },
      "execution_count": null,
      "outputs": [
        {
          "output_type": "display_data",
          "data": {
            "text/plain": [
              "<Figure size 640x480 with 1 Axes>"
            ],
            "image/png": "[encoded data removed]"
          },
          "metadata": {}
        }
      ]
    },
    {
      "cell_type": "code",
      "source": [],
      "metadata": {
        "id": "FmUi_Xbqy8EW"
      },
      "execution_count": null,
      "outputs": []
    }
  ]
}